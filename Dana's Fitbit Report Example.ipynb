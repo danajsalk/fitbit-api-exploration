{
 "cells": [
  {
   "cell_type": "markdown",
   "metadata": {},
   "source": [
    "# Dana's FitBit Reporting Example for total Miles/Day and Sleep\n",
    "\n",
    "* https://github.com/tuchandra/sleep-analysis/blob/master/stats-and-sleep.ipynb\n",
    "\n",
    "### REMEMBER: Fitbit API is metered per user, you can do up to 150 requests per user per hour\n"
   ]
  },
  {
   "cell_type": "code",
   "execution_count": 13,
   "metadata": {},
   "outputs": [],
   "source": [
    "import fitbit\n",
    "import keyring\n",
    "import gather_keys_oauth2 as Oauth2\n",
    "import pandas as pd \n",
    "import datetime\n",
    "import numpy as np\n",
    "\n",
    "import matplotlib\n",
    "import matplotlib.pyplot as plt\n",
    "import scipy\n",
    "import seaborn as sns\n",
    "import statsmodels.api as sm\n",
    "import statsmodels.formula.api as smf\n",
    "\n",
    "%matplotlib inline\n",
    "\n",
    "DATE_FORMAT = '%Y-%m-%d'"
   ]
  },
  {
   "cell_type": "code",
   "execution_count": 14,
   "metadata": {},
   "outputs": [
    {
     "name": "stderr",
     "output_type": "stream",
     "text": [
      "[07/May/2020:10:56:53] ENGINE Listening for SIGTERM.\n",
      "[07/May/2020:10:56:53] ENGINE Bus STARTING\n",
      "CherryPy Checker:\n",
      "The Application mounted at '' has an empty config.\n",
      "\n",
      "[07/May/2020:10:56:53] ENGINE Set handler for console events.\n",
      "[07/May/2020:10:56:53] ENGINE Started monitor thread 'Autoreloader'.\n",
      "[07/May/2020:10:56:53] ENGINE Serving on http://127.0.0.1:8080\n",
      "[07/May/2020:10:56:54] ENGINE Bus STARTED\n"
     ]
    },
    {
     "name": "stdout",
     "output_type": "stream",
     "text": [
      "127.0.0.1 - - [07/May/2020:10:56:55] \"GET /?code=2dd5d2ac2b3602772a640407722c4a0a6769aa8b&state=32e0stO0U7gHUwilMqJeFtG2vhdEcD HTTP/1.1\" 200 122 \"\" \"Mozilla/5.0 (Windows NT 10.0; Win64; x64) AppleWebKit/537.36 (KHTML, like Gecko) Chrome/81.0.4044.129 Safari/537.36\"\n"
     ]
    },
    {
     "name": "stderr",
     "output_type": "stream",
     "text": [
      "[07/May/2020:10:56:56] ENGINE Bus STOPPING\n",
      "[07/May/2020:10:56:56] ENGINE HTTP Server cherrypy._cpwsgi_server.CPWSGIServer(('127.0.0.1', 8080)) shut down\n",
      "[07/May/2020:10:56:56] ENGINE Stopped thread 'Autoreloader'.\n",
      "[07/May/2020:10:56:56] ENGINE Removed handler for console events.\n",
      "[07/May/2020:10:56:56] ENGINE Bus STOPPED\n",
      "[07/May/2020:10:56:56] ENGINE Bus EXITING\n",
      "[07/May/2020:10:56:56] ENGINE Waiting for child threads to terminate...\n",
      "[07/May/2020:10:56:56] ENGINE Bus EXITED\n",
      "[07/May/2020:10:56:56] ENGINE Waiting for thread Thread-33.\n"
     ]
    }
   ],
   "source": [
    "# keyring set system CLIENT_ID\n",
    "# password for 'CLIENT_ID': (paste_password_here)\n",
    "\n",
    "# retrieve username & password\n",
    "CLIENT_ID = keyring.get_password(\"fitbit\", \"username\")\n",
    "CLIENT_SECRET = keyring.get_password(\"fitbit\", \"password\")\n",
    "\n",
    "server = Oauth2.OAuth2Server(CLIENT_ID, CLIENT_SECRET) # For easy use insert CLIENT_ID, CLIENT_SECRET\n",
    "server.browser_authorize()\n",
    "\n",
    "ACCESS_TOKEN = str(server.fitbit.client.session.token['access_token'])\n",
    "REFRESH_TOKEN = str(server.fitbit.client.session.token['refresh_token'])\n",
    "auth2_client = fitbit.Fitbit(CLIENT_ID, CLIENT_SECRET, oauth2=True, access_token=ACCESS_TOKEN, refresh_token=REFRESH_TOKEN)"
   ]
  },
  {
   "cell_type": "code",
   "execution_count": 135,
   "metadata": {},
   "outputs": [],
   "source": [
    "# https://github.com/yashatgit/fitbit-analyzer/blob/master/Fitbit_Data_Collection.ipynb\n",
    "\n",
    "def safeGet(obj, key, defaultVal = np.nan):\n",
    "    return obj.get(key, defaultVal) \n",
    "\n",
    "def filterArrObj(arrList, keyName, keyValue):\n",
    "    for arrItem in arrList:\n",
    "        if arrItem.get(keyName) == keyValue:\n",
    "            return arrItem\n",
    "    return {} \n",
    "\n",
    "\n",
    "def getActivitiesData(date):\n",
    "    activitiyResponse = auth2_client.activities(date=date)\n",
    "    \n",
    "    activitySummary = activitiyResponse['summary'];\n",
    "    activityData = {\n",
    "        \n",
    "        'DateTime': date\n",
    "        , 'Calories_Burned':safeGet(activitySummary,'caloriesOut')\n",
    "        , 'Calories_BMR': safeGet(activitySummary,'caloriesBMR')\n",
    "        , 'Resting_Heart_Rate':safeGet(activitySummary,'restingHeartRate')\n",
    "        , 'Steps':safeGet(activitySummary,'steps')\n",
    "        , 'Distance_Run_miles':filterArrObj(activitySummary.get('distances', []), 'activity', 'Run').get('distance', np.nan)\n",
    "        , 'Distance_veryActive_miles':filterArrObj(activitySummary.get('distances', []), 'activity', 'veryActive').get('distance', np.nan)\n",
    "        , 'Distance_moderatelyActive_miles':filterArrObj(activitySummary.get('distances', []), 'activity', 'moderatelyActive').get('distance', np.nan)\n",
    "        , 'Distance_lightlyActive_miles':filterArrObj(activitySummary.get('distances', []), 'activity', 'lightlyActive').get('distance', np.nan)\n",
    "        , 'Dist_Tot_miles':filterArrObj(activitySummary.get('distances', []), 'activity', 'total').get('distance', np.nan)\n",
    "        , 'Elevation_ft':activitySummary['elevation']\n",
    "        , 'Floors':activitySummary['floors']\n",
    "        , 'Min_Sedentary':activitySummary['sedentaryMinutes']\n",
    "        , 'Min_Lightly_Active':activitySummary['lightlyActiveMinutes']\n",
    "        , 'Min_Fairly_Active':activitySummary['fairlyActiveMinutes']\n",
    "        , 'Min_Very_Active':activitySummary['veryActiveMinutes']\n",
    "        , 'Activity_Calories': activitySummary['activityCalories']\n",
    "        , 'Active_Score': activitySummary['activeScore']\n",
    "        , 'Cardio_min': filterArrObj(activitySummary.get('heartRateZones', []), 'name', 'Cardio').get('minutes', np.nan)\n",
    "        , 'Cardio_calories': filterArrObj(activitySummary.get('heartRateZones', []), 'name', 'Cardio').get('caloriesOut', np.nan)\n",
    "        , 'Fat_Burn_min': filterArrObj(activitySummary.get('heartRateZones', []), 'name', 'Fat Burn').get('minutes', np.nan)\n",
    "        , 'Fat_Burn_calories': filterArrObj(activitySummary.get('heartRateZones', []), 'name', 'Fat Burn').get('caloriesOut', np.nan)\n",
    "        , 'Peak_min': filterArrObj(activitySummary.get('heartRateZones', []), 'name', 'Peak').get('minutes', np.nan)\n",
    "        , 'Peak_calories': filterArrObj(activitySummary.get('heartRateZones', []), 'name', 'Peak').get('caloriesOut', np.nan)\n",
    "        , 'Normal_Cardio_min': filterArrObj(activitySummary.get('heartRateZones', []), 'name', 'Out of Range').get('minutes', np.nan)\n",
    "        , 'Normal_Cardio_calories': filterArrObj(activitySummary.get('heartRateZones', []), 'name', 'Out of Range').get('caloriesOut', np.nan)\n",
    "    }\n",
    "    \n",
    "    return activityData\n",
    "\n",
    "\n",
    "def getSleepData(date):\n",
    "    \n",
    "    try:\n",
    "        summarydata = auth2_client.sleep(date=date)['sleep'][0]\n",
    "        \n",
    "        summary_data_dict = {'Date': summarydata['dateOfSleep']\n",
    "            , 'MainSleep':summarydata['isMainSleep']\n",
    "            , 'Efficiency':summarydata['efficiency']\n",
    "            , 'Duration':summarydata['duration']\n",
    "            , 'Minutes Asleep':summarydata['minutesAsleep']\n",
    "            , 'Minutes Awake':summarydata['minutesAwake']\n",
    "            , 'Awakenings':summarydata['awakeCount']\n",
    "            , 'Restless Count':summarydata['restlessCount']\n",
    "            , 'Restless Duration':summarydata['restlessDuration']\n",
    "            , 'Time in Bed_min':summarydata['timeInBed']\n",
    "            , 'Time in Bed_hours':summarydata['timeInBed']/60\n",
    "                    }\n",
    "        return summary_data_dict\n",
    "    except: \n",
    "        pass"
   ]
  },
  {
   "cell_type": "markdown",
   "metadata": {},
   "source": [
    "# Get Activities Data"
   ]
  },
  {
   "cell_type": "code",
   "execution_count": 6,
   "metadata": {
    "scrolled": true
   },
   "outputs": [
    {
     "name": "stdout",
     "output_type": "stream",
     "text": [
      "91\n"
     ]
    }
   ],
   "source": [
    "days = 90\n",
    "\n",
    "endDate = pd.datetime.today().date()\n",
    "startDate = str(\n",
    "        datetime.datetime.strftime((datetime.datetime.now() - datetime.timedelta(days=days)), \"%Y-%m-%d\"))\n",
    "allDates = pd.date_range(start=startDate, end=endDate)\n",
    "print(len(allDates))\n",
    "\n",
    "#data_list = [getActivitiesData(date) for date in allDates]\n"
   ]
  },
  {
   "cell_type": "code",
   "execution_count": 7,
   "metadata": {},
   "outputs": [
    {
     "data": {
      "text/html": [
       "<div>\n",
       "<style scoped>\n",
       "    .dataframe tbody tr th:only-of-type {\n",
       "        vertical-align: middle;\n",
       "    }\n",
       "\n",
       "    .dataframe tbody tr th {\n",
       "        vertical-align: top;\n",
       "    }\n",
       "\n",
       "    .dataframe thead th {\n",
       "        text-align: right;\n",
       "    }\n",
       "</style>\n",
       "<table border=\"1\" class=\"dataframe\">\n",
       "  <thead>\n",
       "    <tr style=\"text-align: right;\">\n",
       "      <th></th>\n",
       "      <th>DateTime</th>\n",
       "      <th>Calories_Burned</th>\n",
       "      <th>Calories_BMR</th>\n",
       "      <th>Resting_Heart_Rate</th>\n",
       "      <th>Steps</th>\n",
       "      <th>Distance_Run_miles</th>\n",
       "      <th>Distance_veryActive_miles</th>\n",
       "      <th>Distance_moderatelyActive_miles</th>\n",
       "      <th>Distance_lightlyActive_miles</th>\n",
       "      <th>Dist_Tot_miles</th>\n",
       "      <th>...</th>\n",
       "      <th>Activity_Calories</th>\n",
       "      <th>Active_Score</th>\n",
       "      <th>Cardio_min</th>\n",
       "      <th>Cardio_calories</th>\n",
       "      <th>Fat_Burn_min</th>\n",
       "      <th>Fat_Burn_calories</th>\n",
       "      <th>Peak_min</th>\n",
       "      <th>Peak_calories</th>\n",
       "      <th>Normal_Cardio_min</th>\n",
       "      <th>Normal_Cardio_calories</th>\n",
       "    </tr>\n",
       "  </thead>\n",
       "  <tbody>\n",
       "    <tr>\n",
       "      <th>0</th>\n",
       "      <td>2020-02-07</td>\n",
       "      <td>2142</td>\n",
       "      <td>1528</td>\n",
       "      <td>64.0</td>\n",
       "      <td>3525</td>\n",
       "      <td>NaN</td>\n",
       "      <td>0.06</td>\n",
       "      <td>0.07</td>\n",
       "      <td>1.32</td>\n",
       "      <td>1.47</td>\n",
       "      <td>...</td>\n",
       "      <td>734</td>\n",
       "      <td>-1</td>\n",
       "      <td>0</td>\n",
       "      <td>0.00000</td>\n",
       "      <td>106</td>\n",
       "      <td>418.84065</td>\n",
       "      <td>0</td>\n",
       "      <td>0.0</td>\n",
       "      <td>1332</td>\n",
       "      <td>1721.22804</td>\n",
       "    </tr>\n",
       "    <tr>\n",
       "      <th>1</th>\n",
       "      <td>2020-02-08</td>\n",
       "      <td>2397</td>\n",
       "      <td>1528</td>\n",
       "      <td>64.0</td>\n",
       "      <td>8921</td>\n",
       "      <td>NaN</td>\n",
       "      <td>1.80</td>\n",
       "      <td>0.47</td>\n",
       "      <td>1.55</td>\n",
       "      <td>3.84</td>\n",
       "      <td>...</td>\n",
       "      <td>1040</td>\n",
       "      <td>-1</td>\n",
       "      <td>6</td>\n",
       "      <td>54.99606</td>\n",
       "      <td>127</td>\n",
       "      <td>649.97274</td>\n",
       "      <td>0</td>\n",
       "      <td>0.0</td>\n",
       "      <td>1274</td>\n",
       "      <td>1656.78285</td>\n",
       "    </tr>\n",
       "    <tr>\n",
       "      <th>2</th>\n",
       "      <td>2020-02-09</td>\n",
       "      <td>1981</td>\n",
       "      <td>1528</td>\n",
       "      <td>65.0</td>\n",
       "      <td>3288</td>\n",
       "      <td>NaN</td>\n",
       "      <td>0.11</td>\n",
       "      <td>0.06</td>\n",
       "      <td>1.24</td>\n",
       "      <td>1.41</td>\n",
       "      <td>...</td>\n",
       "      <td>582</td>\n",
       "      <td>-1</td>\n",
       "      <td>1</td>\n",
       "      <td>8.28126</td>\n",
       "      <td>48</td>\n",
       "      <td>208.51788</td>\n",
       "      <td>0</td>\n",
       "      <td>0.0</td>\n",
       "      <td>1381</td>\n",
       "      <td>1754.03457</td>\n",
       "    </tr>\n",
       "    <tr>\n",
       "      <th>3</th>\n",
       "      <td>2020-02-10</td>\n",
       "      <td>3114</td>\n",
       "      <td>1528</td>\n",
       "      <td>64.0</td>\n",
       "      <td>18817</td>\n",
       "      <td>NaN</td>\n",
       "      <td>2.44</td>\n",
       "      <td>1.52</td>\n",
       "      <td>4.01</td>\n",
       "      <td>7.99</td>\n",
       "      <td>...</td>\n",
       "      <td>1983</td>\n",
       "      <td>-1</td>\n",
       "      <td>11</td>\n",
       "      <td>100.01214</td>\n",
       "      <td>239</td>\n",
       "      <td>1172.54148</td>\n",
       "      <td>0</td>\n",
       "      <td>0.0</td>\n",
       "      <td>881</td>\n",
       "      <td>1512.07314</td>\n",
       "    </tr>\n",
       "    <tr>\n",
       "      <th>4</th>\n",
       "      <td>2020-02-11</td>\n",
       "      <td>2431</td>\n",
       "      <td>1528</td>\n",
       "      <td>65.0</td>\n",
       "      <td>10640</td>\n",
       "      <td>NaN</td>\n",
       "      <td>1.77</td>\n",
       "      <td>0.37</td>\n",
       "      <td>2.35</td>\n",
       "      <td>4.49</td>\n",
       "      <td>...</td>\n",
       "      <td>1049</td>\n",
       "      <td>-1</td>\n",
       "      <td>8</td>\n",
       "      <td>80.15835</td>\n",
       "      <td>120</td>\n",
       "      <td>571.08843</td>\n",
       "      <td>0</td>\n",
       "      <td>0.0</td>\n",
       "      <td>1304</td>\n",
       "      <td>1771.76496</td>\n",
       "    </tr>\n",
       "  </tbody>\n",
       "</table>\n",
       "<p>5 rows × 26 columns</p>\n",
       "</div>"
      ],
      "text/plain": [
       "    DateTime  Calories_Burned  Calories_BMR  Resting_Heart_Rate  Steps  \\\n",
       "0 2020-02-07             2142          1528                64.0   3525   \n",
       "1 2020-02-08             2397          1528                64.0   8921   \n",
       "2 2020-02-09             1981          1528                65.0   3288   \n",
       "3 2020-02-10             3114          1528                64.0  18817   \n",
       "4 2020-02-11             2431          1528                65.0  10640   \n",
       "\n",
       "   Distance_Run_miles  Distance_veryActive_miles  \\\n",
       "0                 NaN                       0.06   \n",
       "1                 NaN                       1.80   \n",
       "2                 NaN                       0.11   \n",
       "3                 NaN                       2.44   \n",
       "4                 NaN                       1.77   \n",
       "\n",
       "   Distance_moderatelyActive_miles  Distance_lightlyActive_miles  \\\n",
       "0                             0.07                          1.32   \n",
       "1                             0.47                          1.55   \n",
       "2                             0.06                          1.24   \n",
       "3                             1.52                          4.01   \n",
       "4                             0.37                          2.35   \n",
       "\n",
       "   Dist_Tot_miles  ...  Activity_Calories  Active_Score  Cardio_min  \\\n",
       "0            1.47  ...                734            -1           0   \n",
       "1            3.84  ...               1040            -1           6   \n",
       "2            1.41  ...                582            -1           1   \n",
       "3            7.99  ...               1983            -1          11   \n",
       "4            4.49  ...               1049            -1           8   \n",
       "\n",
       "   Cardio_calories  Fat_Burn_min  Fat_Burn_calories  Peak_min  Peak_calories  \\\n",
       "0          0.00000           106          418.84065         0            0.0   \n",
       "1         54.99606           127          649.97274         0            0.0   \n",
       "2          8.28126            48          208.51788         0            0.0   \n",
       "3        100.01214           239         1172.54148         0            0.0   \n",
       "4         80.15835           120          571.08843         0            0.0   \n",
       "\n",
       "   Normal_Cardio_min  Normal_Cardio_calories  \n",
       "0               1332              1721.22804  \n",
       "1               1274              1656.78285  \n",
       "2               1381              1754.03457  \n",
       "3                881              1512.07314  \n",
       "4               1304              1771.76496  \n",
       "\n",
       "[5 rows x 26 columns]"
      ]
     },
     "execution_count": 7,
     "metadata": {},
     "output_type": "execute_result"
    }
   ],
   "source": [
    "df = pd.DataFrame(data_list)\n",
    "df.head()"
   ]
  },
  {
   "cell_type": "code",
   "execution_count": 10,
   "metadata": {},
   "outputs": [],
   "source": [
    "df_date = df.set_index(\"DateTime\")\n"
   ]
  },
  {
   "cell_type": "markdown",
   "metadata": {},
   "source": [
    "### Define Weekends/Weekday"
   ]
  },
  {
   "cell_type": "code",
   "execution_count": 246,
   "metadata": {},
   "outputs": [],
   "source": [
    "# Add column and labels for day of week\n",
    "df_date[\"day_of_week\"] = df_date.index.weekday\n",
    "days = {0: \"Monday\", 1: \"Tuesday\", 2: \"Wednesday\", 3: \"Thursday\", 4: \"Friday\", \n",
    "        5: \"Saturday\", 6: \"Sunday\"}\n",
    "df_date[\"day_name\"] = df_date[\"day_of_week\"].apply(lambda x: days[x])\n",
    "\n",
    "weekends = [\"Saturday\", \"Sunday\"]\n",
    "df_date_weekends = df_date[df_date['day_name'].isin(weekends)]\n",
    "df_date = df_date[~df_date['day_name'].isin(weekends)]"
   ]
  },
  {
   "cell_type": "markdown",
   "metadata": {},
   "source": [
    "### Weekday Reporting"
   ]
  },
  {
   "cell_type": "code",
   "execution_count": 243,
   "metadata": {},
   "outputs": [
    {
     "data": {
      "text/plain": [
       "Text(0, 0.5, 'Dist_Tot_miles')"
      ]
     },
     "execution_count": 243,
     "metadata": {},
     "output_type": "execute_result"
    },
    {
     "data": {
      "image/png": "[encoded data removed]",
      "text/plain": [
       "<Figure size 432x288 with 1 Axes>"
      ]
     },
     "metadata": {
      "needs_background": "light"
     },
     "output_type": "display_data"
    }
   ],
   "source": [
    "df_date[\"Dist_Tot_miles\"].plot()\n",
    "plt.ylabel(\"Dist_Tot_miles\")"
   ]
  },
  {
   "cell_type": "code",
   "execution_count": 244,
   "metadata": {},
   "outputs": [
    {
     "data": {
      "text/plain": [
       "Text(0, 0.5, 'Dist_Tot_miles')"
      ]
     },
     "execution_count": 244,
     "metadata": {},
     "output_type": "execute_result"
    },
    {
     "data": {
      "image/png": "[encoded data removed]",
      "text/plain": [
       "<Figure size 432x288 with 1 Axes>"
      ]
     },
     "metadata": {
      "needs_background": "light"
     },
     "output_type": "display_data"
    }
   ],
   "source": [
    "df_date_weekends[\"Dist_Tot_miles\"].plot()\n",
    "plt.ylabel(\"Dist_Tot_miles\")"
   ]
  },
  {
   "cell_type": "code",
   "execution_count": 247,
   "metadata": {},
   "outputs": [],
   "source": [
    "# Create a fitted model for duration vs. date\n",
    "df_date['date_delta'] = np.arange(len(df_date))"
   ]
  },
  {
   "cell_type": "code",
   "execution_count": 248,
   "metadata": {},
   "outputs": [
    {
     "data": {
      "text/html": [
       "<table class=\"simpletable\">\n",
       "<tr>\n",
       "       <td></td>         <th>coef</th>     <th>std err</th>      <th>t</th>      <th>P>|t|</th>  <th>[0.025</th>    <th>0.975]</th>  \n",
       "</tr>\n",
       "<tr>\n",
       "  <th>Intercept</th>  <td>    3.8313</td> <td>    0.471</td> <td>    8.137</td> <td> 0.000</td> <td>    2.890</td> <td>    4.772</td>\n",
       "</tr>\n",
       "<tr>\n",
       "  <th>date_delta</th> <td>   -0.0165</td> <td>    0.013</td> <td>   -1.298</td> <td> 0.199</td> <td>   -0.042</td> <td>    0.009</td>\n",
       "</tr>\n",
       "</table>"
      ],
      "text/plain": [
       "<class 'statsmodels.iolib.table.SimpleTable'>"
      ]
     },
     "execution_count": 248,
     "metadata": {},
     "output_type": "execute_result"
    }
   ],
   "source": [
    "model = smf.ols(formula = 'Dist_Tot_miles ~ date_delta', data = df_date).fit()\n",
    "model.summary().tables[1]"
   ]
  },
  {
   "cell_type": "markdown",
   "metadata": {},
   "source": [
    "Qualitatively, we can see from the line graph above that the plot is very noisy, and it's hard to see that any trend exists. \n",
    "\n",
    "* confidence interval for the linear coefficient is (-0.029, 0.000), which includes zero\n",
    "* p-value is 0.044. \n",
    "\n",
    "We d not conclude there is a significant trend in my total miles a day over the course of the quarentine.\n",
    "\n",
    "We can also graph the regression line against the actual data (as a scatterplot, this time, for readability) to see this."
   ]
  },
  {
   "cell_type": "code",
   "execution_count": 255,
   "metadata": {},
   "outputs": [
    {
     "data": {
      "image/png": "[encoded data removed]",
      "text/plain": [
       "<Figure size 432x288 with 1 Axes>"
      ]
     },
     "metadata": {
      "needs_background": "light"
     },
     "output_type": "display_data"
    }
   ],
   "source": [
    "# Plot the durations with the regression line\n",
    "sns.regplot(x = df_date.date_delta, y = df_date.Dist_Tot_miles, color = \"g\")\n",
    "plt.xlabel(\"Last 90 Days\")\n",
    "plt.ylabel(\"Total Miles\")\n",
    "plt.title(\"Total Daily Miles over Last 90 Days\");\n"
   ]
  },
  {
   "cell_type": "code",
   "execution_count": 250,
   "metadata": {},
   "outputs": [],
   "source": [
    "# Add column and labels for day of week\n",
    "df_date[\"day_of_week\"] = df_date.index.weekday\n",
    "days = {0: \"Monday\", 1: \"Tuesday\", 2: \"Wednesday\", 3: \"Thursday\", 4: \"Friday\", \n",
    "        5: \"Saturday\", 6: \"Sunday\"}\n",
    "df_date[\"day_name\"] = df_date[\"day_of_week\"].apply(lambda x: days[x])\n"
   ]
  },
  {
   "cell_type": "code",
   "execution_count": 251,
   "metadata": {},
   "outputs": [
    {
     "data": {
      "image/png": "[encoded data removed]",
      "text/plain": [
       "<Figure size 1080x360 with 2 Axes>"
      ]
     },
     "metadata": {
      "needs_background": "light"
     },
     "output_type": "display_data"
    }
   ],
   "source": [
    "\n",
    "# Create plots\n",
    "days_order = [\"Sunday\", \"Monday\", \"Tuesday\", \"Wednesday\", \"Thursday\", \"Friday\", \"Saturday\"]\n",
    "\n",
    "fig, (ax1, ax2) = plt.subplots(ncols = 2, figsize = (15, 5))\n",
    "sns.stripplot(x = df_date.day_name, y = df_date.Dist_Tot_miles, jitter = 0.25, order = days_order, palette = \"muted\", ax = ax1)\n",
    "sns.boxplot(x = df_date.day_name, y = df_date.Dist_Tot_miles, order = days_order, palette = \"pastel\", ax = ax2)\n",
    "\n",
    "# Label axes\n",
    "ax1.set_xlabel(\"Day of Week\")\n",
    "ax1.set_ylabel(\"Total Miles\")\n",
    "ax1.set_title(\"Total Miles by Day of Week\") \n",
    "ax2.set_xlabel(\"Day of Week\")\n",
    "ax2.set_ylabel(\"Total Miles\")\n",
    "ax2.set_title(\"Total Miles by Day of Week\") ;"
   ]
  },
  {
   "cell_type": "markdown",
   "metadata": {},
   "source": [
    "# Get Sleep Data\n",
    "\n",
    "* Duration is initiall a value in milliseconds (divide by 60000 to get min)\n",
    "* https://dev.fitbit.com/build/reference/web-api/sleep/"
   ]
  },
  {
   "cell_type": "code",
   "execution_count": 252,
   "metadata": {},
   "outputs": [],
   "source": [
    "# data_sleep = [getSleepData(date) for date in allDates]"
   ]
  },
  {
   "cell_type": "code",
   "execution_count": 253,
   "metadata": {},
   "outputs": [
    {
     "name": "stdout",
     "output_type": "stream",
     "text": [
      "91\n"
     ]
    }
   ],
   "source": [
    "print(len(data_sleep))"
   ]
  },
  {
   "cell_type": "code",
   "execution_count": 144,
   "metadata": {},
   "outputs": [],
   "source": [
    "data_sleep2=  [x for x in data_sleep if isinstance(x, dict)]\n"
   ]
  },
  {
   "cell_type": "code",
   "execution_count": 236,
   "metadata": {
    "scrolled": true
   },
   "outputs": [
    {
     "data": {
      "text/html": [
       "<div>\n",
       "<style scoped>\n",
       "    .dataframe tbody tr th:only-of-type {\n",
       "        vertical-align: middle;\n",
       "    }\n",
       "\n",
       "    .dataframe tbody tr th {\n",
       "        vertical-align: top;\n",
       "    }\n",
       "\n",
       "    .dataframe thead th {\n",
       "        text-align: right;\n",
       "    }\n",
       "</style>\n",
       "<table border=\"1\" class=\"dataframe\">\n",
       "  <thead>\n",
       "    <tr style=\"text-align: right;\">\n",
       "      <th></th>\n",
       "      <th>Date</th>\n",
       "      <th>MainSleep</th>\n",
       "      <th>Efficiency</th>\n",
       "      <th>Duration</th>\n",
       "      <th>Minutes Asleep</th>\n",
       "      <th>Minutes Awake</th>\n",
       "      <th>Awakenings</th>\n",
       "      <th>Restless Count</th>\n",
       "      <th>Restless Duration</th>\n",
       "      <th>Time in Bed_min</th>\n",
       "      <th>Time in Bed_hours</th>\n",
       "      <th>date_delta</th>\n",
       "    </tr>\n",
       "  </thead>\n",
       "  <tbody>\n",
       "    <tr>\n",
       "      <th>0</th>\n",
       "      <td>2020-02-07</td>\n",
       "      <td>True</td>\n",
       "      <td>97</td>\n",
       "      <td>523000.0</td>\n",
       "      <td>505</td>\n",
       "      <td>18</td>\n",
       "      <td>1</td>\n",
       "      <td>9</td>\n",
       "      <td>16</td>\n",
       "      <td>523</td>\n",
       "      <td>8.716667</td>\n",
       "      <td>0</td>\n",
       "    </tr>\n",
       "    <tr>\n",
       "      <th>1</th>\n",
       "      <td>2020-02-08</td>\n",
       "      <td>True</td>\n",
       "      <td>98</td>\n",
       "      <td>533000.0</td>\n",
       "      <td>520</td>\n",
       "      <td>13</td>\n",
       "      <td>0</td>\n",
       "      <td>7</td>\n",
       "      <td>13</td>\n",
       "      <td>533</td>\n",
       "      <td>8.883333</td>\n",
       "      <td>1</td>\n",
       "    </tr>\n",
       "    <tr>\n",
       "      <th>2</th>\n",
       "      <td>2020-02-09</td>\n",
       "      <td>True</td>\n",
       "      <td>98</td>\n",
       "      <td>563000.0</td>\n",
       "      <td>553</td>\n",
       "      <td>10</td>\n",
       "      <td>1</td>\n",
       "      <td>6</td>\n",
       "      <td>9</td>\n",
       "      <td>563</td>\n",
       "      <td>9.383333</td>\n",
       "      <td>2</td>\n",
       "    </tr>\n",
       "    <tr>\n",
       "      <th>3</th>\n",
       "      <td>2020-02-10</td>\n",
       "      <td>True</td>\n",
       "      <td>93</td>\n",
       "      <td>129000.0</td>\n",
       "      <td>118</td>\n",
       "      <td>9</td>\n",
       "      <td>1</td>\n",
       "      <td>4</td>\n",
       "      <td>9</td>\n",
       "      <td>129</td>\n",
       "      <td>2.150000</td>\n",
       "      <td>3</td>\n",
       "    </tr>\n",
       "    <tr>\n",
       "      <th>4</th>\n",
       "      <td>2020-02-11</td>\n",
       "      <td>False</td>\n",
       "      <td>97</td>\n",
       "      <td>78000.0</td>\n",
       "      <td>76</td>\n",
       "      <td>2</td>\n",
       "      <td>0</td>\n",
       "      <td>2</td>\n",
       "      <td>2</td>\n",
       "      <td>78</td>\n",
       "      <td>1.300000</td>\n",
       "      <td>4</td>\n",
       "    </tr>\n",
       "    <tr>\n",
       "      <th>5</th>\n",
       "      <td>2020-02-12</td>\n",
       "      <td>True</td>\n",
       "      <td>94</td>\n",
       "      <td>369000.0</td>\n",
       "      <td>348</td>\n",
       "      <td>21</td>\n",
       "      <td>1</td>\n",
       "      <td>8</td>\n",
       "      <td>20</td>\n",
       "      <td>369</td>\n",
       "      <td>6.150000</td>\n",
       "      <td>5</td>\n",
       "    </tr>\n",
       "    <tr>\n",
       "      <th>6</th>\n",
       "      <td>2020-02-13</td>\n",
       "      <td>True</td>\n",
       "      <td>97</td>\n",
       "      <td>493000.0</td>\n",
       "      <td>477</td>\n",
       "      <td>16</td>\n",
       "      <td>1</td>\n",
       "      <td>10</td>\n",
       "      <td>15</td>\n",
       "      <td>493</td>\n",
       "      <td>8.216667</td>\n",
       "      <td>6</td>\n",
       "    </tr>\n",
       "    <tr>\n",
       "      <th>7</th>\n",
       "      <td>2020-02-14</td>\n",
       "      <td>True</td>\n",
       "      <td>98</td>\n",
       "      <td>482000.0</td>\n",
       "      <td>472</td>\n",
       "      <td>10</td>\n",
       "      <td>0</td>\n",
       "      <td>4</td>\n",
       "      <td>10</td>\n",
       "      <td>482</td>\n",
       "      <td>8.033333</td>\n",
       "      <td>7</td>\n",
       "    </tr>\n",
       "    <tr>\n",
       "      <th>8</th>\n",
       "      <td>2020-02-15</td>\n",
       "      <td>True</td>\n",
       "      <td>97</td>\n",
       "      <td>447000.0</td>\n",
       "      <td>432</td>\n",
       "      <td>15</td>\n",
       "      <td>2</td>\n",
       "      <td>4</td>\n",
       "      <td>9</td>\n",
       "      <td>447</td>\n",
       "      <td>7.450000</td>\n",
       "      <td>8</td>\n",
       "    </tr>\n",
       "    <tr>\n",
       "      <th>9</th>\n",
       "      <td>2020-02-16</td>\n",
       "      <td>True</td>\n",
       "      <td>98</td>\n",
       "      <td>449000.0</td>\n",
       "      <td>441</td>\n",
       "      <td>8</td>\n",
       "      <td>1</td>\n",
       "      <td>6</td>\n",
       "      <td>6</td>\n",
       "      <td>449</td>\n",
       "      <td>7.483333</td>\n",
       "      <td>9</td>\n",
       "    </tr>\n",
       "    <tr>\n",
       "      <th>10</th>\n",
       "      <td>2020-02-18</td>\n",
       "      <td>True</td>\n",
       "      <td>94</td>\n",
       "      <td>431000.0</td>\n",
       "      <td>405</td>\n",
       "      <td>26</td>\n",
       "      <td>2</td>\n",
       "      <td>9</td>\n",
       "      <td>23</td>\n",
       "      <td>431</td>\n",
       "      <td>7.183333</td>\n",
       "      <td>10</td>\n",
       "    </tr>\n",
       "    <tr>\n",
       "      <th>11</th>\n",
       "      <td>2020-02-19</td>\n",
       "      <td>True</td>\n",
       "      <td>94</td>\n",
       "      <td>398000.0</td>\n",
       "      <td>373</td>\n",
       "      <td>24</td>\n",
       "      <td>2</td>\n",
       "      <td>13</td>\n",
       "      <td>23</td>\n",
       "      <td>398</td>\n",
       "      <td>6.633333</td>\n",
       "      <td>11</td>\n",
       "    </tr>\n",
       "    <tr>\n",
       "      <th>12</th>\n",
       "      <td>2020-02-20</td>\n",
       "      <td>True</td>\n",
       "      <td>93</td>\n",
       "      <td>510000.0</td>\n",
       "      <td>475</td>\n",
       "      <td>35</td>\n",
       "      <td>1</td>\n",
       "      <td>16</td>\n",
       "      <td>32</td>\n",
       "      <td>510</td>\n",
       "      <td>8.500000</td>\n",
       "      <td>12</td>\n",
       "    </tr>\n",
       "    <tr>\n",
       "      <th>13</th>\n",
       "      <td>2020-02-21</td>\n",
       "      <td>True</td>\n",
       "      <td>99</td>\n",
       "      <td>445000.0</td>\n",
       "      <td>439</td>\n",
       "      <td>6</td>\n",
       "      <td>0</td>\n",
       "      <td>6</td>\n",
       "      <td>6</td>\n",
       "      <td>445</td>\n",
       "      <td>7.416667</td>\n",
       "      <td>13</td>\n",
       "    </tr>\n",
       "    <tr>\n",
       "      <th>14</th>\n",
       "      <td>2020-02-23</td>\n",
       "      <td>True</td>\n",
       "      <td>95</td>\n",
       "      <td>504000.0</td>\n",
       "      <td>478</td>\n",
       "      <td>26</td>\n",
       "      <td>2</td>\n",
       "      <td>11</td>\n",
       "      <td>23</td>\n",
       "      <td>504</td>\n",
       "      <td>8.400000</td>\n",
       "      <td>14</td>\n",
       "    </tr>\n",
       "    <tr>\n",
       "      <th>15</th>\n",
       "      <td>2020-02-24</td>\n",
       "      <td>True</td>\n",
       "      <td>93</td>\n",
       "      <td>504000.0</td>\n",
       "      <td>469</td>\n",
       "      <td>35</td>\n",
       "      <td>2</td>\n",
       "      <td>12</td>\n",
       "      <td>26</td>\n",
       "      <td>504</td>\n",
       "      <td>8.400000</td>\n",
       "      <td>15</td>\n",
       "    </tr>\n",
       "    <tr>\n",
       "      <th>16</th>\n",
       "      <td>2020-02-25</td>\n",
       "      <td>True</td>\n",
       "      <td>95</td>\n",
       "      <td>404000.0</td>\n",
       "      <td>382</td>\n",
       "      <td>22</td>\n",
       "      <td>2</td>\n",
       "      <td>7</td>\n",
       "      <td>17</td>\n",
       "      <td>404</td>\n",
       "      <td>6.733333</td>\n",
       "      <td>16</td>\n",
       "    </tr>\n",
       "    <tr>\n",
       "      <th>17</th>\n",
       "      <td>2020-02-26</td>\n",
       "      <td>True</td>\n",
       "      <td>97</td>\n",
       "      <td>429000.0</td>\n",
       "      <td>417</td>\n",
       "      <td>12</td>\n",
       "      <td>1</td>\n",
       "      <td>6</td>\n",
       "      <td>9</td>\n",
       "      <td>429</td>\n",
       "      <td>7.150000</td>\n",
       "      <td>17</td>\n",
       "    </tr>\n",
       "    <tr>\n",
       "      <th>18</th>\n",
       "      <td>2020-02-28</td>\n",
       "      <td>True</td>\n",
       "      <td>95</td>\n",
       "      <td>557000.0</td>\n",
       "      <td>518</td>\n",
       "      <td>29</td>\n",
       "      <td>4</td>\n",
       "      <td>12</td>\n",
       "      <td>27</td>\n",
       "      <td>557</td>\n",
       "      <td>9.283333</td>\n",
       "      <td>18</td>\n",
       "    </tr>\n",
       "    <tr>\n",
       "      <th>19</th>\n",
       "      <td>2020-02-29</td>\n",
       "      <td>True</td>\n",
       "      <td>94</td>\n",
       "      <td>518000.0</td>\n",
       "      <td>488</td>\n",
       "      <td>30</td>\n",
       "      <td>1</td>\n",
       "      <td>15</td>\n",
       "      <td>29</td>\n",
       "      <td>518</td>\n",
       "      <td>8.633333</td>\n",
       "      <td>19</td>\n",
       "    </tr>\n",
       "  </tbody>\n",
       "</table>\n",
       "</div>"
      ],
      "text/plain": [
       "         Date  MainSleep  Efficiency  Duration  Minutes Asleep  Minutes Awake  \\\n",
       "0  2020-02-07       True          97  523000.0             505             18   \n",
       "1  2020-02-08       True          98  533000.0             520             13   \n",
       "2  2020-02-09       True          98  563000.0             553             10   \n",
       "3  2020-02-10       True          93  129000.0             118              9   \n",
       "4  2020-02-11      False          97   78000.0              76              2   \n",
       "5  2020-02-12       True          94  369000.0             348             21   \n",
       "6  2020-02-13       True          97  493000.0             477             16   \n",
       "7  2020-02-14       True          98  482000.0             472             10   \n",
       "8  2020-02-15       True          97  447000.0             432             15   \n",
       "9  2020-02-16       True          98  449000.0             441              8   \n",
       "10 2020-02-18       True          94  431000.0             405             26   \n",
       "11 2020-02-19       True          94  398000.0             373             24   \n",
       "12 2020-02-20       True          93  510000.0             475             35   \n",
       "13 2020-02-21       True          99  445000.0             439              6   \n",
       "14 2020-02-23       True          95  504000.0             478             26   \n",
       "15 2020-02-24       True          93  504000.0             469             35   \n",
       "16 2020-02-25       True          95  404000.0             382             22   \n",
       "17 2020-02-26       True          97  429000.0             417             12   \n",
       "18 2020-02-28       True          95  557000.0             518             29   \n",
       "19 2020-02-29       True          94  518000.0             488             30   \n",
       "\n",
       "    Awakenings  Restless Count  Restless Duration  Time in Bed_min  \\\n",
       "0            1               9                 16              523   \n",
       "1            0               7                 13              533   \n",
       "2            1               6                  9              563   \n",
       "3            1               4                  9              129   \n",
       "4            0               2                  2               78   \n",
       "5            1               8                 20              369   \n",
       "6            1              10                 15              493   \n",
       "7            0               4                 10              482   \n",
       "8            2               4                  9              447   \n",
       "9            1               6                  6              449   \n",
       "10           2               9                 23              431   \n",
       "11           2              13                 23              398   \n",
       "12           1              16                 32              510   \n",
       "13           0               6                  6              445   \n",
       "14           2              11                 23              504   \n",
       "15           2              12                 26              504   \n",
       "16           2               7                 17              404   \n",
       "17           1               6                  9              429   \n",
       "18           4              12                 27              557   \n",
       "19           1              15                 29              518   \n",
       "\n",
       "    Time in Bed_hours  date_delta  \n",
       "0            8.716667           0  \n",
       "1            8.883333           1  \n",
       "2            9.383333           2  \n",
       "3            2.150000           3  \n",
       "4            1.300000           4  \n",
       "5            6.150000           5  \n",
       "6            8.216667           6  \n",
       "7            8.033333           7  \n",
       "8            7.450000           8  \n",
       "9            7.483333           9  \n",
       "10           7.183333          10  \n",
       "11           6.633333          11  \n",
       "12           8.500000          12  \n",
       "13           7.416667          13  \n",
       "14           8.400000          14  \n",
       "15           8.400000          15  \n",
       "16           6.733333          16  \n",
       "17           7.150000          17  \n",
       "18           9.283333          18  \n",
       "19           8.633333          19  "
      ]
     },
     "execution_count": 236,
     "metadata": {},
     "output_type": "execute_result"
    }
   ],
   "source": [
    "df2 = pd.DataFrame(data_sleep2)\n",
    "df2['Date'] =  pd.to_datetime(df2['Date'], format=DATE_FORMAT)\n",
    "\n",
    "# Create a fitted model for duration vs. date\n",
    "df2['date_delta'] = np.arange(len(df2))\n",
    "df2[\"Duration\"] /= 60\n",
    "\n",
    "df2.head(20)"
   ]
  },
  {
   "cell_type": "markdown",
   "metadata": {},
   "source": [
    "### Average Efficiency"
   ]
  },
  {
   "cell_type": "code",
   "execution_count": 203,
   "metadata": {},
   "outputs": [
    {
     "data": {
      "text/plain": [
       "95.51190476190476"
      ]
     },
     "execution_count": 203,
     "metadata": {},
     "output_type": "execute_result"
    }
   ],
   "source": [
    "df2.Efficiency.mean()"
   ]
  },
  {
   "cell_type": "code",
   "execution_count": 290,
   "metadata": {},
   "outputs": [
    {
     "name": "stdout",
     "output_type": "stream",
     "text": [
      "84\n",
      "72\n"
     ]
    }
   ],
   "source": [
    "dfs = df2.set_index(\"Date\")\n",
    "dfs['Duration'] /= 60000\n",
    "print(len(dfs))\n",
    "dfs =  dfs[dfs['Minutes Asleep'] > 120]\n",
    "print(len(dfs))"
   ]
  },
  {
   "cell_type": "markdown",
   "metadata": {},
   "source": [
    "### Define Weekends/Weekday"
   ]
  },
  {
   "cell_type": "code",
   "execution_count": 291,
   "metadata": {},
   "outputs": [],
   "source": [
    "# Add column and labels for day of week\n",
    "dfs[\"day_of_week\"] = dfs.index.weekday\n",
    "days = {0: \"Monday\", 1: \"Tuesday\", 2: \"Wednesday\", 3: \"Thursday\", 4: \"Friday\", \n",
    "        5: \"Saturday\", 6: \"Sunday\"}\n",
    "dfs[\"day_name\"] = dfs[\"day_of_week\"].apply(lambda x: days[x])\n",
    "\n",
    "weekends = [\"Saturday\", \"Sunday\"]\n",
    "dfs_weekends = dfs[dfs['day_name'].isin(weekends)]\n",
    "dfs = dfs[~dfs['day_name'].isin(weekends)]"
   ]
  },
  {
   "cell_type": "code",
   "execution_count": 292,
   "metadata": {},
   "outputs": [
    {
     "data": {
      "text/plain": [
       "Text(0, 0.5, 'Duration')"
      ]
     },
     "execution_count": 292,
     "metadata": {},
     "output_type": "execute_result"
    },
    {
     "data": {
      "image/png": "[encoded data removed]",
      "text/plain": [
       "<Figure size 432x288 with 1 Axes>"
      ]
     },
     "metadata": {
      "needs_background": "light"
     },
     "output_type": "display_data"
    }
   ],
   "source": [
    "dfs[\"Duration\"].plot()\n",
    "plt.ylabel(\"Duration\")"
   ]
  },
  {
   "cell_type": "code",
   "execution_count": 293,
   "metadata": {},
   "outputs": [
    {
     "data": {
      "text/plain": [
       "Text(0, 0.5, 'Duration')"
      ]
     },
     "execution_count": 293,
     "metadata": {},
     "output_type": "execute_result"
    },
    {
     "data": {
      "image/png": "[encoded data removed]",
      "text/plain": [
       "<Figure size 432x288 with 1 Axes>"
      ]
     },
     "metadata": {
      "needs_background": "light"
     },
     "output_type": "display_data"
    }
   ],
   "source": [
    "dfs_weekends[\"Duration\"].plot()\n",
    "plt.ylabel(\"Duration\")"
   ]
  },
  {
   "cell_type": "code",
   "execution_count": 294,
   "metadata": {},
   "outputs": [
    {
     "data": {
      "text/html": [
       "<table class=\"simpletable\">\n",
       "<tr>\n",
       "       <td></td>         <th>coef</th>     <th>std err</th>      <th>t</th>      <th>P>|t|</th>  <th>[0.025</th>    <th>0.975]</th>  \n",
       "</tr>\n",
       "<tr>\n",
       "  <th>Intercept</th>  <td>    7.9321</td> <td>    0.242</td> <td>   32.839</td> <td> 0.000</td> <td>    7.447</td> <td>    8.417</td>\n",
       "</tr>\n",
       "<tr>\n",
       "  <th>date_delta</th> <td>   -0.0034</td> <td>    0.005</td> <td>   -0.680</td> <td> 0.499</td> <td>   -0.013</td> <td>    0.007</td>\n",
       "</tr>\n",
       "</table>"
      ],
      "text/plain": [
       "<class 'statsmodels.iolib.table.SimpleTable'>"
      ]
     },
     "execution_count": 294,
     "metadata": {},
     "output_type": "execute_result"
    }
   ],
   "source": [
    "# Create a fitted model for duration vs. date\n",
    "model = smf.ols(formula = 'Duration ~ date_delta', data = dfs).fit()\n",
    "model.summary().tables[1]"
   ]
  },
  {
   "cell_type": "code",
   "execution_count": 295,
   "metadata": {},
   "outputs": [
    {
     "data": {
      "image/png": "[encoded data removed]",
      "text/plain": [
       "<Figure size 432x288 with 1 Axes>"
      ]
     },
     "metadata": {
      "needs_background": "light"
     },
     "output_type": "display_data"
    }
   ],
   "source": [
    "# Plot the durations with the regression line\n",
    "sns.regplot(x = dfs.date_delta, y = dfs.Duration, color = \"g\")\n",
    "plt.xlabel(\"Days into Quarentine\")\n",
    "plt.ylabel(\"Hours in Bed\")\n",
    "plt.title(\"Sleep Duration Over Last 90 Days\");\n"
   ]
  },
  {
   "cell_type": "code",
   "execution_count": 296,
   "metadata": {
    "scrolled": true
   },
   "outputs": [
    {
     "data": {
      "image/png": "[encoded data removed]",
      "text/plain": [
       "<Figure size 1080x360 with 2 Axes>"
      ]
     },
     "metadata": {
      "needs_background": "light"
     },
     "output_type": "display_data"
    }
   ],
   "source": [
    "dataframe = dfs\n",
    "\n",
    "# Create plots\n",
    "days_order = [\"Sunday\", \"Monday\", \"Tuesday\", \"Wednesday\", \"Thursday\", \"Friday\", \"Saturday\"]\n",
    "\n",
    "fig, (ax1, ax2) = plt.subplots(ncols = 2, figsize = (15, 5))\n",
    "sns.stripplot(x = dataframe.day_name, y = dataframe.Duration, jitter = 0.25, order = days_order, palette = \"muted\", ax = ax1)\n",
    "sns.boxplot(x = dataframe.day_name, y = dataframe.Duration, order = days_order, palette = \"pastel\", ax = ax2)\n",
    "\n",
    "# Label axes\n",
    "ax1.set_xlabel(\"Day of Week\")\n",
    "ax1.set_ylabel(\"Sleep Duration\")\n",
    "ax1.set_title(\"Sleep Duration by Day of Week\") \n",
    "ax2.set_xlabel(\"Day of Week\")\n",
    "ax2.set_ylabel(\"Sleep Duration\")\n",
    "ax2.set_title(\"Sleep Duration by Day of Week\") ;"
   ]
  },
  {
   "cell_type": "markdown",
   "metadata": {},
   "source": [
    "## The (Sleep) Debt Crisis\n",
    "\n",
    "Next, I want to study the question of sleep debt. The idea that one can \"catch up on sleep\" has often been debated by scientists. But anecdotal experience from my college career fully supports the idea that if I don't sleep much one night, I will likely be sleeping more the next night.\n",
    "\n",
    "Let's look into this. I once again consider all my data, and include naps this time (since if I'm taking a nap to catch up on sleep, it make sense to include that). We take the duration of sleep from each night and subtract from it the duration of sleep the night before. This gives a \"duration difference\" that tells us how much more we slept that night than the previous."
   ]
  },
  {
   "cell_type": "code",
   "execution_count": 271,
   "metadata": {},
   "outputs": [
    {
     "data": {
      "text/html": [
       "<div>\n",
       "<style scoped>\n",
       "    .dataframe tbody tr th:only-of-type {\n",
       "        vertical-align: middle;\n",
       "    }\n",
       "\n",
       "    .dataframe tbody tr th {\n",
       "        vertical-align: top;\n",
       "    }\n",
       "\n",
       "    .dataframe thead th {\n",
       "        text-align: right;\n",
       "    }\n",
       "</style>\n",
       "<table border=\"1\" class=\"dataframe\">\n",
       "  <thead>\n",
       "    <tr style=\"text-align: right;\">\n",
       "      <th></th>\n",
       "      <th>Duration</th>\n",
       "    </tr>\n",
       "    <tr>\n",
       "      <th>Date</th>\n",
       "      <th></th>\n",
       "    </tr>\n",
       "  </thead>\n",
       "  <tbody>\n",
       "    <tr>\n",
       "      <th>2020-02-07</th>\n",
       "      <td>8.716667</td>\n",
       "    </tr>\n",
       "    <tr>\n",
       "      <th>2020-02-12</th>\n",
       "      <td>6.150000</td>\n",
       "    </tr>\n",
       "    <tr>\n",
       "      <th>2020-02-13</th>\n",
       "      <td>8.216667</td>\n",
       "    </tr>\n",
       "    <tr>\n",
       "      <th>2020-02-14</th>\n",
       "      <td>8.033333</td>\n",
       "    </tr>\n",
       "    <tr>\n",
       "      <th>2020-02-18</th>\n",
       "      <td>7.183333</td>\n",
       "    </tr>\n",
       "  </tbody>\n",
       "</table>\n",
       "</div>"
      ],
      "text/plain": [
       "            Duration\n",
       "Date                \n",
       "2020-02-07  8.716667\n",
       "2020-02-12  6.150000\n",
       "2020-02-13  8.216667\n",
       "2020-02-14  8.033333\n",
       "2020-02-18  7.183333"
      ]
     },
     "execution_count": 271,
     "metadata": {},
     "output_type": "execute_result"
    }
   ],
   "source": [
    "dfs_diff = pd.DataFrame(dfs, columns = [\"Duration\"])\n",
    "dfs_diff.head()"
   ]
  },
  {
   "cell_type": "code",
   "execution_count": 272,
   "metadata": {},
   "outputs": [
    {
     "data": {
      "text/html": [
       "<div>\n",
       "<style scoped>\n",
       "    .dataframe tbody tr th:only-of-type {\n",
       "        vertical-align: middle;\n",
       "    }\n",
       "\n",
       "    .dataframe tbody tr th {\n",
       "        vertical-align: top;\n",
       "    }\n",
       "\n",
       "    .dataframe thead th {\n",
       "        text-align: right;\n",
       "    }\n",
       "</style>\n",
       "<table border=\"1\" class=\"dataframe\">\n",
       "  <thead>\n",
       "    <tr style=\"text-align: right;\">\n",
       "      <th></th>\n",
       "      <th>Duration</th>\n",
       "      <th>duration_prev</th>\n",
       "      <th>duration_diff</th>\n",
       "    </tr>\n",
       "    <tr>\n",
       "      <th>Date</th>\n",
       "      <th></th>\n",
       "      <th></th>\n",
       "      <th></th>\n",
       "    </tr>\n",
       "  </thead>\n",
       "  <tbody>\n",
       "    <tr>\n",
       "      <th>2020-02-07</th>\n",
       "      <td>8.716667</td>\n",
       "      <td>NaN</td>\n",
       "      <td>NaN</td>\n",
       "    </tr>\n",
       "    <tr>\n",
       "      <th>2020-02-12</th>\n",
       "      <td>6.150000</td>\n",
       "      <td>8.716667</td>\n",
       "      <td>-2.566667</td>\n",
       "    </tr>\n",
       "    <tr>\n",
       "      <th>2020-02-13</th>\n",
       "      <td>8.216667</td>\n",
       "      <td>6.150000</td>\n",
       "      <td>2.066667</td>\n",
       "    </tr>\n",
       "    <tr>\n",
       "      <th>2020-02-14</th>\n",
       "      <td>8.033333</td>\n",
       "      <td>8.216667</td>\n",
       "      <td>-0.183333</td>\n",
       "    </tr>\n",
       "    <tr>\n",
       "      <th>2020-02-18</th>\n",
       "      <td>7.183333</td>\n",
       "      <td>8.033333</td>\n",
       "      <td>-0.850000</td>\n",
       "    </tr>\n",
       "  </tbody>\n",
       "</table>\n",
       "</div>"
      ],
      "text/plain": [
       "            Duration  duration_prev  duration_diff\n",
       "Date                                              \n",
       "2020-02-07  8.716667            NaN            NaN\n",
       "2020-02-12  6.150000       8.716667      -2.566667\n",
       "2020-02-13  8.216667       6.150000       2.066667\n",
       "2020-02-14  8.033333       8.216667      -0.183333\n",
       "2020-02-18  7.183333       8.033333      -0.850000"
      ]
     },
     "execution_count": 272,
     "metadata": {},
     "output_type": "execute_result"
    }
   ],
   "source": [
    "# Set duration_prev to duration of sleep the day before\n",
    "dfs_diff[\"duration_prev\"] = dfs_diff.shift(1).Duration\n",
    "\n",
    "# Set duration_diff to difference between current night and previous night of sleep\n",
    "dfs_diff[\"duration_diff\"] = dfs_diff.Duration - dfs_diff.duration_prev\n",
    "\n",
    "dfs_diff.head()"
   ]
  },
  {
   "cell_type": "markdown",
   "metadata": {},
   "source": [
    "Next, we can perform regression analysis on this. Let's plot the difference in sleep durations versus how much I slept the night before, and construct a linear model as before."
   ]
  },
  {
   "cell_type": "code",
   "execution_count": 273,
   "metadata": {},
   "outputs": [
    {
     "data": {
      "image/png": "[encoded data removed]",
      "text/plain": [
       "<Figure size 432x288 with 1 Axes>"
      ]
     },
     "metadata": {
      "needs_background": "light"
     },
     "output_type": "display_data"
    }
   ],
   "source": [
    "# Plot how much more I slept each night vs. amount slept night before\n",
    "sns.regplot(x = dfs_diff.duration_prev, y = dfs_diff.duration_diff, color = \"b\")\n",
    "plt.xlabel(\"Sleep Duration from Previous Night\")\n",
    "plt.ylabel(\"Difference in Sleep Durations\")\n",
    "plt.title(\"Sleep Debt\");"
   ]
  },
  {
   "cell_type": "markdown",
   "metadata": {},
   "source": [
    "\n",
    "We visually see a strong negative association between these two factors, and our regression analysis tells us that the relationship is significant. Indeed, it seems that on nights when I slept fewer than 7.6 hours, I was likely to sleep more the next night. Conversely, on nights where I slept more than that, I was likely to sleep less the next night."
   ]
  },
  {
   "cell_type": "code",
   "execution_count": 274,
   "metadata": {},
   "outputs": [
    {
     "data": {
      "text/html": [
       "<table class=\"simpletable\">\n",
       "<tr>\n",
       "        <td></td>           <th>coef</th>     <th>std err</th>      <th>t</th>      <th>P>|t|</th>  <th>[0.025</th>    <th>0.975]</th>  \n",
       "</tr>\n",
       "<tr>\n",
       "  <th>Intercept</th>     <td>    7.5808</td> <td>    1.158</td> <td>    6.548</td> <td> 0.000</td> <td>    5.255</td> <td>    9.906</td>\n",
       "</tr>\n",
       "<tr>\n",
       "  <th>duration_prev</th> <td>   -0.9758</td> <td>    0.147</td> <td>   -6.629</td> <td> 0.000</td> <td>   -1.271</td> <td>   -0.680</td>\n",
       "</tr>\n",
       "</table>"
      ],
      "text/plain": [
       "<class 'statsmodels.iolib.table.SimpleTable'>"
      ]
     },
     "execution_count": 274,
     "metadata": {},
     "output_type": "execute_result"
    }
   ],
   "source": [
    "model = smf.ols(formula = 'duration_diff ~ duration_prev', data = dfs_diff).fit()\n",
    "model.summary().tables[1]"
   ]
  },
  {
   "cell_type": "code",
   "execution_count": 210,
   "metadata": {},
   "outputs": [
    {
     "data": {
      "text/plain": [
       "0.3923550426483524"
      ]
     },
     "execution_count": 210,
     "metadata": {},
     "output_type": "execute_result"
    }
   ],
   "source": [
    "model.rsquared"
   ]
  },
  {
   "cell_type": "code",
   "execution_count": null,
   "metadata": {},
   "outputs": [],
   "source": []
  }
 ],
 "metadata": {
  "kernelspec": {
   "display_name": "Python 3",
   "language": "python",
   "name": "python3"
  },
  "language_info": {
   "codemirror_mode": {
    "name": "ipython",
    "version": 3
   },
   "file_extension": ".py",
   "mimetype": "text/x-python",
   "name": "python",
   "nbconvert_exporter": "python",
   "pygments_lexer": "ipython3",
   "version": "3.7.5"
  }
 },
 "nbformat": 4,
 "nbformat_minor": 2
}
